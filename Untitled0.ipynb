{
 "metadata": {
  "name": "",
  "signature": "sha256:fbdb79ec3db509c8eef5b166798371d9f75547483c4fc002771e6229c93bde7d"
 },
 "nbformat": 3,
 "nbformat_minor": 0,
 "worksheets": []
}